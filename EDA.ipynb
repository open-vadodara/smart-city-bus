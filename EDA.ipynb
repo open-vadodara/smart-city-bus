{
 "cells": [
  {
   "cell_type": "markdown",
   "id": "bad450ec",
   "metadata": {},
   "source": [
    "# Vadodara Smart Bus"
   ]
  },
  {
   "cell_type": "code",
   "execution_count": 25,
   "id": "eedbe9fe",
   "metadata": {},
   "outputs": [],
   "source": [
    "import pandas as pd\n",
    "import json\n",
    "import os"
   ]
  },
  {
   "cell_type": "code",
   "execution_count": 27,
   "id": "699042ec",
   "metadata": {},
   "outputs": [],
   "source": [
    "fldr = 'route_details'\n",
    "sample_tt = os.path.join(fldr, 'tt_2D.json')\n",
    "sample_bt = os.path.join(fldr, '2D.json')\n",
    "\n",
    "with open(sample_tt) as f:    \n",
    "    json = json.load(f)"
   ]
  },
  {
   "cell_type": "markdown",
   "id": "df54f316",
   "metadata": {},
   "source": [
    "## Route Details"
   ]
  },
  {
   "cell_type": "code",
   "execution_count": 38,
   "id": "1f38893d",
   "metadata": {},
   "outputs": [],
   "source": [
    "df_details = pd.io.json.read_json(sample_bt, orient='records')"
   ]
  },
  {
   "cell_type": "code",
   "execution_count": 44,
   "id": "c89f59c7",
   "metadata": {},
   "outputs": [
    {
     "data": {
      "text/html": [
       "<div>\n",
       "<style scoped>\n",
       "    .dataframe tbody tr th:only-of-type {\n",
       "        vertical-align: middle;\n",
       "    }\n",
       "\n",
       "    .dataframe tbody tr th {\n",
       "        vertical-align: top;\n",
       "    }\n",
       "\n",
       "    .dataframe thead th {\n",
       "        text-align: right;\n",
       "    }\n",
       "</style>\n",
       "<table border=\"1\" class=\"dataframe\">\n",
       "  <thead>\n",
       "    <tr style=\"text-align: right;\">\n",
       "      <th></th>\n",
       "      <th>ROWID</th>\n",
       "      <th>ROUTE_CODE</th>\n",
       "      <th>SCHEDULE_DATE</th>\n",
       "      <th>TIME_TABLE_TRIP_ID</th>\n",
       "      <th>TRIP_TIME</th>\n",
       "      <th>TRIP_END_TIME</th>\n",
       "      <th>SEQNO</th>\n",
       "    </tr>\n",
       "  </thead>\n",
       "  <tbody>\n",
       "    <tr>\n",
       "      <th>0</th>\n",
       "      <td>1</td>\n",
       "      <td>2D</td>\n",
       "      <td>11-Oct-2021</td>\n",
       "      <td>1576</td>\n",
       "      <td>2021-10-12 06:15:00</td>\n",
       "      <td>2021-10-12 06:31:00</td>\n",
       "      <td>0</td>\n",
       "    </tr>\n",
       "    <tr>\n",
       "      <th>1</th>\n",
       "      <td>2</td>\n",
       "      <td>2D</td>\n",
       "      <td>11-Oct-2021</td>\n",
       "      <td>1571</td>\n",
       "      <td>2021-10-12 06:25:00</td>\n",
       "      <td>2021-10-12 06:41:00</td>\n",
       "      <td>0</td>\n",
       "    </tr>\n",
       "    <tr>\n",
       "      <th>2</th>\n",
       "      <td>3</td>\n",
       "      <td>2D</td>\n",
       "      <td>11-Oct-2021</td>\n",
       "      <td>1566</td>\n",
       "      <td>2021-10-12 06:35:00</td>\n",
       "      <td>2021-10-12 06:51:00</td>\n",
       "      <td>0</td>\n",
       "    </tr>\n",
       "    <tr>\n",
       "      <th>3</th>\n",
       "      <td>4</td>\n",
       "      <td>2D</td>\n",
       "      <td>11-Oct-2021</td>\n",
       "      <td>1567</td>\n",
       "      <td>2021-10-12 06:45:00</td>\n",
       "      <td>2021-10-12 07:01:00</td>\n",
       "      <td>0</td>\n",
       "    </tr>\n",
       "    <tr>\n",
       "      <th>4</th>\n",
       "      <td>5</td>\n",
       "      <td>2D</td>\n",
       "      <td>11-Oct-2021</td>\n",
       "      <td>1568</td>\n",
       "      <td>2021-10-12 06:55:00</td>\n",
       "      <td>2021-10-12 07:11:00</td>\n",
       "      <td>0</td>\n",
       "    </tr>\n",
       "  </tbody>\n",
       "</table>\n",
       "</div>"
      ],
      "text/plain": [
       "   ROWID ROUTE_CODE SCHEDULE_DATE  TIME_TABLE_TRIP_ID           TRIP_TIME  \\\n",
       "0      1         2D   11-Oct-2021                1576 2021-10-12 06:15:00   \n",
       "1      2         2D   11-Oct-2021                1571 2021-10-12 06:25:00   \n",
       "2      3         2D   11-Oct-2021                1566 2021-10-12 06:35:00   \n",
       "3      4         2D   11-Oct-2021                1567 2021-10-12 06:45:00   \n",
       "4      5         2D   11-Oct-2021                1568 2021-10-12 06:55:00   \n",
       "\n",
       "        TRIP_END_TIME  SEQNO  \n",
       "0 2021-10-12 06:31:00      0  \n",
       "1 2021-10-12 06:41:00      0  \n",
       "2 2021-10-12 06:51:00      0  \n",
       "3 2021-10-12 07:01:00      0  \n",
       "4 2021-10-12 07:11:00      0  "
      ]
     },
     "execution_count": 44,
     "metadata": {},
     "output_type": "execute_result"
    }
   ],
   "source": [
    "df_details.head()"
   ]
  },
  {
   "cell_type": "markdown",
   "id": "d661edb8",
   "metadata": {},
   "source": [
    "## Route Timetable"
   ]
  },
  {
   "cell_type": "code",
   "execution_count": 40,
   "id": "f50d59a7",
   "metadata": {},
   "outputs": [],
   "source": [
    "df_timetable = pd.DataFrame(json['Table'])"
   ]
  },
  {
   "cell_type": "code",
   "execution_count": 45,
   "id": "348ec791",
   "metadata": {},
   "outputs": [
    {
     "data": {
      "text/html": [
       "<div>\n",
       "<style scoped>\n",
       "    .dataframe tbody tr th:only-of-type {\n",
       "        vertical-align: middle;\n",
       "    }\n",
       "\n",
       "    .dataframe tbody tr th {\n",
       "        vertical-align: top;\n",
       "    }\n",
       "\n",
       "    .dataframe thead th {\n",
       "        text-align: right;\n",
       "    }\n",
       "</style>\n",
       "<table border=\"1\" class=\"dataframe\">\n",
       "  <thead>\n",
       "    <tr style=\"text-align: right;\">\n",
       "      <th></th>\n",
       "      <th>POI_ID</th>\n",
       "      <th>POI_NAME</th>\n",
       "      <th>REACH_TIME</th>\n",
       "      <th>ETA</th>\n",
       "      <th>POI_SHORT_NAME</th>\n",
       "      <th>POI_CODE</th>\n",
       "      <th>POI_NAME_GUJRATI</th>\n",
       "      <th>POI_NAME_HINDI</th>\n",
       "      <th>POI_SEQUENCE_NO</th>\n",
       "      <th>NEXT_POI_TRAVEL_SCHEDULE_DISTANCE</th>\n",
       "      <th>NEXT_POI_TRAVEL_SCHEDULE_DISTANCE1</th>\n",
       "      <th>LATLAN</th>\n",
       "      <th>TRAVELPATH</th>\n",
       "    </tr>\n",
       "  </thead>\n",
       "  <tbody>\n",
       "    <tr>\n",
       "      <th>0</th>\n",
       "      <td>214</td>\n",
       "      <td>PANIGATE TANKI</td>\n",
       "      <td>06:15 AM</td>\n",
       "      <td></td>\n",
       "      <td>PANTA</td>\n",
       "      <td>NS174</td>\n",
       "      <td>પાણીગેટ ટાંકી</td>\n",
       "      <td>पनिगेट  टंकी</td>\n",
       "      <td>0</td>\n",
       "      <td>311.0</td>\n",
       "      <td>311.0</td>\n",
       "      <td>73.22373267 22.30084677</td>\n",
       "      <td>LINESTRING (22.30085 73.22373, 22.30063 73.222...</td>\n",
       "    </tr>\n",
       "    <tr>\n",
       "      <th>1</th>\n",
       "      <td>215</td>\n",
       "      <td>AYURVEDIC COLLEGE NAKA</td>\n",
       "      <td>06:15 AM</td>\n",
       "      <td></td>\n",
       "      <td>AYCONA</td>\n",
       "      <td>NS163</td>\n",
       "      <td>આયુર્વેદિક કોલ્લેગે નાકા</td>\n",
       "      <td>आयुर्वेदिक कॉलेज नका</td>\n",
       "      <td>1</td>\n",
       "      <td>311.0</td>\n",
       "      <td>311.0</td>\n",
       "      <td>73.22083967 22.30005167</td>\n",
       "      <td>LINESTRING (22.30085 73.22373, 22.30063 73.222...</td>\n",
       "    </tr>\n",
       "  </tbody>\n",
       "</table>\n",
       "</div>"
      ],
      "text/plain": [
       "   POI_ID                POI_NAME REACH_TIME ETA POI_SHORT_NAME POI_CODE  \\\n",
       "0     214          PANIGATE TANKI   06:15 AM              PANTA    NS174   \n",
       "1     215  AYURVEDIC COLLEGE NAKA   06:15 AM             AYCONA    NS163   \n",
       "\n",
       "           POI_NAME_GUJRATI        POI_NAME_HINDI  POI_SEQUENCE_NO  \\\n",
       "0             પાણીગેટ ટાંકી          पनिगेट  टंकी                0   \n",
       "1  આયુર્વેદિક કોલ્લેગે નાકા  आयुर्वेदिक कॉलेज नका                1   \n",
       "\n",
       "   NEXT_POI_TRAVEL_SCHEDULE_DISTANCE  NEXT_POI_TRAVEL_SCHEDULE_DISTANCE1  \\\n",
       "0                              311.0                               311.0   \n",
       "1                              311.0                               311.0   \n",
       "\n",
       "                    LATLAN                                         TRAVELPATH  \n",
       "0  73.22373267 22.30084677  LINESTRING (22.30085 73.22373, 22.30063 73.222...  \n",
       "1  73.22083967 22.30005167  LINESTRING (22.30085 73.22373, 22.30063 73.222...  "
      ]
     },
     "execution_count": 45,
     "metadata": {},
     "output_type": "execute_result"
    }
   ],
   "source": [
    "df_timetable.head(2)"
   ]
  },
  {
   "cell_type": "markdown",
   "id": "71ec59e8",
   "metadata": {},
   "source": [
    "### Show all stops for route, with reach time"
   ]
  },
  {
   "cell_type": "code",
   "execution_count": 57,
   "id": "46b17b32",
   "metadata": {},
   "outputs": [
    {
     "data": {
      "text/html": [
       "<div>\n",
       "<style scoped>\n",
       "    .dataframe tbody tr th:only-of-type {\n",
       "        vertical-align: middle;\n",
       "    }\n",
       "\n",
       "    .dataframe tbody tr th {\n",
       "        vertical-align: top;\n",
       "    }\n",
       "\n",
       "    .dataframe thead th {\n",
       "        text-align: right;\n",
       "    }\n",
       "</style>\n",
       "<table border=\"1\" class=\"dataframe\">\n",
       "  <thead>\n",
       "    <tr style=\"text-align: right;\">\n",
       "      <th></th>\n",
       "      <th>POI_NAME</th>\n",
       "      <th>REACH_TIME_24</th>\n",
       "    </tr>\n",
       "  </thead>\n",
       "  <tbody>\n",
       "    <tr>\n",
       "      <th>0</th>\n",
       "      <td>PANIGATE TANKI</td>\n",
       "      <td>06:15</td>\n",
       "    </tr>\n",
       "    <tr>\n",
       "      <th>1</th>\n",
       "      <td>AYURVEDIC COLLEGE NAKA</td>\n",
       "      <td>06:15</td>\n",
       "    </tr>\n",
       "    <tr>\n",
       "      <th>2</th>\n",
       "      <td>PANI GATE POLICE STATION</td>\n",
       "      <td>06:16</td>\n",
       "    </tr>\n",
       "    <tr>\n",
       "      <th>3</th>\n",
       "      <td>MANDVI</td>\n",
       "      <td>06:18</td>\n",
       "    </tr>\n",
       "    <tr>\n",
       "      <th>4</th>\n",
       "      <td>NYAY MANDIR</td>\n",
       "      <td>06:20</td>\n",
       "    </tr>\n",
       "    <tr>\n",
       "      <th>5</th>\n",
       "      <td>GANDHI NAGAR GRUH</td>\n",
       "      <td>06:22</td>\n",
       "    </tr>\n",
       "    <tr>\n",
       "      <th>6</th>\n",
       "      <td>AMDAWADI POLE</td>\n",
       "      <td>06:23</td>\n",
       "    </tr>\n",
       "    <tr>\n",
       "      <th>7</th>\n",
       "      <td>TOWER RAOPURA</td>\n",
       "      <td>06:24</td>\n",
       "    </tr>\n",
       "    <tr>\n",
       "      <th>8</th>\n",
       "      <td>KOTHI KHADI BHAWAN</td>\n",
       "      <td>06:26</td>\n",
       "    </tr>\n",
       "    <tr>\n",
       "      <th>9</th>\n",
       "      <td>S.S.G HOSPITAL GATE</td>\n",
       "      <td>06:27</td>\n",
       "    </tr>\n",
       "    <tr>\n",
       "      <th>10</th>\n",
       "      <td>KAMATI BAUG</td>\n",
       "      <td>06:28</td>\n",
       "    </tr>\n",
       "    <tr>\n",
       "      <th>11</th>\n",
       "      <td>SAYAJIGUNJ</td>\n",
       "      <td>06:30</td>\n",
       "    </tr>\n",
       "    <tr>\n",
       "      <th>12</th>\n",
       "      <td>CITY BUS STAND</td>\n",
       "      <td>06:31</td>\n",
       "    </tr>\n",
       "  </tbody>\n",
       "</table>\n",
       "</div>"
      ],
      "text/plain": [
       "                    POI_NAME REACH_TIME_24\n",
       "0             PANIGATE TANKI         06:15\n",
       "1     AYURVEDIC COLLEGE NAKA         06:15\n",
       "2   PANI GATE POLICE STATION         06:16\n",
       "3                     MANDVI         06:18\n",
       "4                NYAY MANDIR         06:20\n",
       "5          GANDHI NAGAR GRUH         06:22\n",
       "6              AMDAWADI POLE         06:23\n",
       "7              TOWER RAOPURA         06:24\n",
       "8         KOTHI KHADI BHAWAN         06:26\n",
       "9        S.S.G HOSPITAL GATE         06:27\n",
       "10               KAMATI BAUG         06:28\n",
       "11                SAYAJIGUNJ         06:30\n",
       "12            CITY BUS STAND         06:31"
      ]
     },
     "execution_count": 57,
     "metadata": {},
     "output_type": "execute_result"
    }
   ],
   "source": [
    "df_timetable['REACH_TIME_24'] = pd.to_datetime(df_timetable['REACH_TIME']).dt.strftime('%H:%M')\n",
    "df_timetable[['POI_NAME', 'REACH_TIME_24']]"
   ]
  },
  {
   "cell_type": "markdown",
   "id": "c8d55076",
   "metadata": {},
   "source": [
    "#### Calculate total time taken for the trip from 1st stop to last stop\n",
    "\n",
    "In this case, it's only 16 minutes"
   ]
  },
  {
   "cell_type": "code",
   "execution_count": 81,
   "id": "1fc3e715",
   "metadata": {},
   "outputs": [
    {
     "data": {
      "text/plain": [
       "Components(days=0, hours=0, minutes=16, seconds=0, milliseconds=0, microseconds=0, nanoseconds=0)"
      ]
     },
     "execution_count": 81,
     "metadata": {},
     "output_type": "execute_result"
    }
   ],
   "source": [
    "(pd.to_datetime(df_timetable.iloc[-1]['REACH_TIME_24']) - pd.to_datetime(df_timetable.iloc[0]['REACH_TIME_24'])).components\n"
   ]
  },
  {
   "cell_type": "code",
   "execution_count": null,
   "id": "766655b9",
   "metadata": {},
   "outputs": [],
   "source": []
  }
 ],
 "metadata": {
  "kernelspec": {
   "display_name": "Python 3",
   "language": "python",
   "name": "python3"
  },
  "language_info": {
   "codemirror_mode": {
    "name": "ipython",
    "version": 3
   },
   "file_extension": ".py",
   "mimetype": "text/x-python",
   "name": "python",
   "nbconvert_exporter": "python",
   "pygments_lexer": "ipython3",
   "version": "3.7.10"
  }
 },
 "nbformat": 4,
 "nbformat_minor": 5
}
